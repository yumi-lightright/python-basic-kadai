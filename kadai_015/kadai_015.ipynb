{
  "nbformat": 4,
  "nbformat_minor": 0,
  "metadata": {
    "colab": {
      "provenance": []
    },
    "kernelspec": {
      "name": "python3",
      "display_name": "Python 3"
    },
    "language_info": {
      "name": "python"
    }
  },
  "cells": [
    {
      "cell_type": "code",
      "execution_count": 5,
      "metadata": {
        "colab": {
          "base_uri": "https://localhost:8080/"
        },
        "id": "M_x5RYPuH09h",
        "outputId": "f4db8dd2-dd4d-498f-bbf7-d5be405068f2"
      },
      "outputs": [
        {
          "output_type": "stream",
          "name": "stdout",
          "text": [
            "名前: 空, 年齢: 25\n"
          ]
        }
      ],
      "source": [
        "#インスタンス作成\n",
        "class Human:\n",
        "    def __init__(self, name, age):\n",
        "        self.name = name  # 名前の属性\n",
        "        self.age = age    # 年齢の属性\n",
        "\n",
        "# 名前と年齢を出力するメソッド\n",
        "    def printinfo(self):\n",
        "        print(f\"名前: {self.name}, 年齢: {self.age}\")\n",
        "\n",
        "# クラスのインスタンスを作成\n",
        "person = Human(\"空\", 25)\n",
        "\n",
        "# 情報を出力\n",
        "person.printinfo()\n"
      ]
    },
    {
      "cell_type": "code",
      "source": [],
      "metadata": {
        "id": "eHVRefbOH7Sl"
      },
      "execution_count": null,
      "outputs": []
    }
  ]
}