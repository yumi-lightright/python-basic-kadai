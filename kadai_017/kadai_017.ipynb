{
  "nbformat": 4,
  "nbformat_minor": 0,
  "metadata": {
    "colab": {
      "provenance": []
    },
    "kernelspec": {
      "name": "python3",
      "display_name": "Python 3"
    },
    "language_info": {
      "name": "python"
    }
  },
  "cells": [
    {
      "cell_type": "code",
      "execution_count": 9,
      "metadata": {
        "colab": {
          "base_uri": "https://localhost:8080/"
        },
        "id": "CpXXMPoG0UK1",
        "outputId": "5d366f8e-d0e5-4d97-9fd2-28261badbb4d"
      },
      "outputs": [
        {
          "output_type": "stream",
          "name": "stdout",
          "text": [
            "名前: 空, 年齢: 25で大人\n",
            "名前: 陸, 年齢: 15で大人じゃない\n",
            "名前: 海, 年齢: 30で大人\n",
            "名前: 風, 年齢: 18で大人じゃない\n",
            "名前: 雷, 年齢: 22で大人\n"
          ]
        }
      ],
      "source": [
        "#インスタンス作成\n",
        "class Human:\n",
        "    def __init__(self, name, age):\n",
        "        self.name = name  # 名前の属性\n",
        "        self.age = age    # 年齢の属性\n",
        "\n",
        "\n",
        "# 名前と年齢を出力するメソッド\n",
        "    def check_adult(self):\n",
        "      if self.age >= 20:\n",
        "        return (f\"名前: {self.name}, 年齢: {self.age}で大人\")\n",
        "      else:\n",
        "        return (f\"名前: {self.name}, 年齢: {self.age}で大人じゃない\")\n",
        "\n",
        "# 人のインスタンスをリストに格納\n",
        "people = [\n",
        "    Human(\"空\", 25),\n",
        "    Human(\"陸\", 15),\n",
        "    Human(\"海\", 30),\n",
        "    Human(\"風\", 18),\n",
        "    Human(\"雷\", 22)\n",
        "]\n",
        "\n",
        "# 情報を出力\n",
        "messages = [person.check_adult() for person in people]\n",
        "\n",
        "for message in messages:\n",
        "    print(message)\n"
      ]
    }
  ]
}