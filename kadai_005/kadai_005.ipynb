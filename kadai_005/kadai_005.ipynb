{
  "nbformat": 4,
  "nbformat_minor": 0,
  "metadata": {
    "colab": {
      "provenance": []
    },
    "kernelspec": {
      "name": "python3",
      "display_name": "Python 3"
    },
    "language_info": {
      "name": "python"
    }
  },
  "cells": [
    {
      "cell_type": "code",
      "execution_count": null,
      "metadata": {
        "id": "wU0febsfc90B"
      },
      "outputs": [],
      "source": []
    },
    {
      "cell_type": "code",
      "source": [
        "#台形の面積を求める\n",
        "upper_line = 10\n",
        "under_line = 20\n",
        "\n",
        "area = (upper_line + under_line) * 10 / 2\n",
        "print(str(area) + \"cm²\")\n"
      ],
      "metadata": {
        "colab": {
          "base_uri": "https://localhost:8080/"
        },
        "id": "lDp8LchednIp",
        "outputId": "c1b58a2b-e04a-4713-92fa-ac33f4aae2f1"
      },
      "execution_count": 6,
      "outputs": [
        {
          "output_type": "stream",
          "name": "stdout",
          "text": [
            "150.0cm²\n"
          ]
        }
      ]
    }
  ]
}