{
  "nbformat": 4,
  "nbformat_minor": 0,
  "metadata": {
    "colab": {
      "provenance": []
    },
    "kernelspec": {
      "name": "python3",
      "display_name": "Python 3"
    },
    "language_info": {
      "name": "python"
    }
  },
  "cells": [
    {
      "cell_type": "code",
      "execution_count": 5,
      "metadata": {
        "colab": {
          "base_uri": "https://localhost:8080/"
        },
        "id": "YUV4_YtyDn2z",
        "outputId": "56046036-a81a-4c52-e4a5-8ccec052a4eb"
      },
      "outputs": [
        {
          "output_type": "stream",
          "name": "stdout",
          "text": [
            "121.0\n"
          ]
        }
      ],
      "source": [
        "#商品の値段を計算する\n",
        "def calcrate_sum(price,tax):\n",
        "  return price + price * tax / 100\n",
        "\n",
        "print(calcrate_sum(110,10))"
      ]
    }
  ]
}