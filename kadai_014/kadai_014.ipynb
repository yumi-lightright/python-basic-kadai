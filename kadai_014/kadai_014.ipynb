{
  "nbformat": 4,
  "nbformat_minor": 0,
  "metadata": {
    "colab": {
      "provenance": []
    },
    "kernelspec": {
      "name": "python3",
      "display_name": "Python 3"
    },
    "language_info": {
      "name": "python"
    }
  },
  "cells": [
    {
      "cell_type": "code",
      "execution_count": 4,
      "metadata": {
        "colab": {
          "base_uri": "https://localhost:8080/"
        },
        "id": "M_x5RYPuH09h",
        "outputId": "45284e77-30e9-43de-81aa-341d8d2e0fea"
      },
      "outputs": [
        {
          "output_type": "stream",
          "name": "stdout",
          "text": [
            "330.0\n"
          ]
        }
      ],
      "source": [
        "#ローカルスコープとグローバルスコープの修正\n",
        "tax = 1.1\n",
        "\n",
        "def total():\n",
        "  price1 = 100\n",
        "  price2 = 200\n",
        "  return price1 + price2\n",
        "\n",
        "print (total() * tax)"
      ]
    },
    {
      "cell_type": "code",
      "source": [],
      "metadata": {
        "id": "eHVRefbOH7Sl"
      },
      "execution_count": null,
      "outputs": []
    }
  ]
}