{
  "nbformat": 4,
  "nbformat_minor": 0,
  "metadata": {
    "colab": {
      "provenance": []
    },
    "kernelspec": {
      "name": "python3",
      "display_name": "Python 3"
    },
    "language_info": {
      "name": "python"
    }
  },
  "cells": [
    {
      "cell_type": "code",
      "execution_count": 2,
      "metadata": {
        "colab": {
          "base_uri": "https://localhost:8080/"
        },
        "id": "FtvE9KpuSSOf",
        "outputId": "6e446249-b935-4e87-8b99-4cc1e867df2e"
      },
      "outputs": [
        {
          "output_type": "stream",
          "name": "stdout",
          "text": [
            "水曜日は晴れです\n",
            "晴れ\n"
          ]
        }
      ],
      "source": [
        "#リスト\n",
        "week = ['月曜日は晴れです','火曜日は雨です','水曜日は晴れです','木曜日は晴れです','金曜日は曇りです','土曜日は曇りのち雨です','日曜日は雷雨です']\n",
        "print(week[2])\n",
        "#連想配列\n",
        "week_en = {'mon':'晴れ','tue':'雨','wed':'晴れ','thu':'晴れ','fri':'曇り','sat':'曇りのち雨','sun':'雷雨'}\n",
        "print(week_en['wed'])"
      ]
    }
  ]
}